{
 "cells": [
  {
   "cell_type": "code",
   "execution_count": 2,
   "metadata": {},
   "outputs": [],
   "source": [
    "import numpy as np\n",
    "import pandas as pd\n",
    "import csv\n",
    "import matplotlib.pyplot as plt\n",
    "%matplotlib inline"
   ]
  },
  {
   "cell_type": "code",
   "execution_count": 3,
   "metadata": {},
   "outputs": [],
   "source": [
    "def calculateAccuracy():\n",
    "    pass"
   ]
  },
  {
   "cell_type": "code",
   "execution_count": 4,
   "metadata": {},
   "outputs": [],
   "source": [
    "def calculatePrecision():\n",
    "    pass"
   ]
  },
  {
   "cell_type": "code",
   "execution_count": 5,
   "metadata": {},
   "outputs": [],
   "source": [
    "def calculateRecall():\n",
    "    pass"
   ]
  },
  {
   "cell_type": "code",
   "execution_count": 6,
   "metadata": {},
   "outputs": [],
   "source": [
    "def calculateFmeasure():\n",
    "    pass"
   ]
  },
  {
   "cell_type": "code",
   "execution_count": 17,
   "metadata": {},
   "outputs": [],
   "source": [
    "def getTenFoldData(path, kfold ):\n",
    "    train_arr = list()\n",
    "    test_arr = list()\n",
    "    data = pd.read_csv(path)\n",
    "    dataLen = len(data)\n",
    "    np.random.seed(kfold)\n",
    "    seedList = np.random.randint(low=0, high=200, size=kfold)\n",
    "\n",
    "    for seed in seedList:\n",
    "        tempDf = data.copy()\n",
    "        np.random.seed(seed)\n",
    "        tempDf.apply(np.random.shuffle, axis=0)\n",
    "        #print(tempDf.iloc[0:int(dataLen/10)])\n",
    "        test_arr.append(tempDf.iloc[0:int(dataLen/10)])\n",
    "        train_arr.append(tempDf.iloc[int(dataLen/10): ].reset_index())\n",
    "    \n",
    "    return train_arr, test_arr\n",
    "    \n",
    "    \n",
    "\n",
    "\n",
    "\n",
    "\n",
    "\n",
    "\n",
    "\n"
   ]
  },
  {
   "cell_type": "code",
   "execution_count": 8,
   "metadata": {},
   "outputs": [],
   "source": [
    "def makeCSV(path):\n",
    "    with open('data.csv', 'w') as writeFile:\n",
    "        writer = csv.writer(writeFile)\n",
    "\n",
    "        with open(path) as f:\n",
    "            read_data = f.read()\n",
    "            read_data = read_data.split('\\n')\n",
    "            for line in read_data:\n",
    "                #line  = line.split(',')\n",
    "                print(line)\n",
    "                writeFile.write(line+'\\n')\n",
    "        writeFile.close()   "
   ]
  },
  {
   "cell_type": "code",
   "execution_count": 10,
   "metadata": {},
   "outputs": [
    {
     "name": "stdout",
     "output_type": "stream",
     "text": [
      "<class 'pandas.core.frame.DataFrame'>\n",
      "RangeIndex: 748 entries, 0 to 747\n",
      "Data columns (total 5 columns):\n",
      "Recency (months)                              748 non-null int64\n",
      "Frequency (times)                             748 non-null int64\n",
      "Monetary (c.c. blood)                         748 non-null int64\n",
      "Time (months)                                 748 non-null int64\n",
      "whether he/she donated blood in March 2007    748 non-null int64\n",
      "dtypes: int64(5)\n",
      "memory usage: 29.3 KB\n"
     ]
    }
   ],
   "source": [
    "data = pd.read_csv('data.csv')\n",
    "#data['Recency (months)'][0] + data['Monetary (c.c. blood)'][0]\n",
    "#len(data)\n",
    "data.info()"
   ]
  },
  {
   "cell_type": "code",
   "execution_count": 26,
   "metadata": {},
   "outputs": [
    {
     "ename": "TypeError",
     "evalue": "insert() missing 1 required positional argument: 'loc'",
     "output_type": "error",
     "traceback": [
      "\u001b[1;31m---------------------------------------------------------------------------\u001b[0m",
      "\u001b[1;31mTypeError\u001b[0m                                 Traceback (most recent call last)",
      "\u001b[1;32m<ipython-input-26-b7d3f2b02296>\u001b[0m in \u001b[0;36m<module>\u001b[1;34m\u001b[0m\n\u001b[0;32m     31\u001b[0m \u001b[0mtrain_arr\u001b[0m\u001b[1;33m,\u001b[0m \u001b[0mtest_arr\u001b[0m \u001b[1;33m=\u001b[0m \u001b[0mgetTenFoldData\u001b[0m\u001b[1;33m(\u001b[0m\u001b[1;34m'data.csv'\u001b[0m\u001b[1;33m,\u001b[0m \u001b[0mkfold\u001b[0m\u001b[1;33m)\u001b[0m\u001b[1;33m\u001b[0m\u001b[1;33m\u001b[0m\u001b[0m\n\u001b[0;32m     32\u001b[0m \u001b[1;33m\u001b[0m\u001b[0m\n\u001b[1;32m---> 33\u001b[1;33m \u001b[0mKNN\u001b[0m\u001b[1;33m(\u001b[0m\u001b[0mtrain_arr\u001b[0m\u001b[1;33m,\u001b[0m \u001b[0mtest_arr\u001b[0m\u001b[1;33m,\u001b[0m \u001b[0mkfold\u001b[0m\u001b[1;33m,\u001b[0m \u001b[0mclassifierName\u001b[0m\u001b[1;33m)\u001b[0m\u001b[1;33m\u001b[0m\u001b[1;33m\u001b[0m\u001b[0m\n\u001b[0m\u001b[0;32m     34\u001b[0m \u001b[1;31m#print(train_arr, test_arr)\u001b[0m\u001b[1;33m\u001b[0m\u001b[1;33m\u001b[0m\u001b[1;33m\u001b[0m\u001b[0m\n",
      "\u001b[1;32m<ipython-input-26-b7d3f2b02296>\u001b[0m in \u001b[0;36mKNN\u001b[1;34m(train_arr, test_arr, kfold, classifierName)\u001b[0m\n\u001b[0;32m     23\u001b[0m \u001b[1;33m\u001b[0m\u001b[0m\n\u001b[0;32m     24\u001b[0m                 \u001b[0mdistanceList\u001b[0m\u001b[1;33m.\u001b[0m\u001b[0mappend\u001b[0m\u001b[1;33m(\u001b[0m\u001b[0mnp\u001b[0m\u001b[1;33m.\u001b[0m\u001b[0msum\u001b[0m\u001b[1;33m(\u001b[0m\u001b[1;33m(\u001b[0m\u001b[0mtempTest\u001b[0m  \u001b[1;33m-\u001b[0m \u001b[0mtempTrain\u001b[0m\u001b[1;33m)\u001b[0m\u001b[1;33m**\u001b[0m\u001b[1;36m2\u001b[0m\u001b[1;33m)\u001b[0m\u001b[1;33m)\u001b[0m\u001b[1;33m\u001b[0m\u001b[1;33m\u001b[0m\u001b[0m\n\u001b[1;32m---> 25\u001b[1;33m             \u001b[0mtrain_arr\u001b[0m\u001b[1;33m[\u001b[0m\u001b[0mi\u001b[0m\u001b[1;33m]\u001b[0m\u001b[1;33m.\u001b[0m\u001b[0minsert\u001b[0m\u001b[1;33m(\u001b[0m\u001b[0mvalue\u001b[0m\u001b[1;33m=\u001b[0m\u001b[0mpd\u001b[0m\u001b[1;33m.\u001b[0m\u001b[0mSeries\u001b[0m\u001b[1;33m(\u001b[0m\u001b[0mdistanceList\u001b[0m\u001b[1;33m)\u001b[0m\u001b[1;33m,\u001b[0m \u001b[0mcolumn\u001b[0m\u001b[1;33m=\u001b[0m\u001b[1;34m'Distance'\u001b[0m\u001b[1;33m)\u001b[0m\u001b[1;33m\u001b[0m\u001b[1;33m\u001b[0m\u001b[0m\n\u001b[0m\u001b[0;32m     26\u001b[0m     \u001b[0mprint\u001b[0m\u001b[1;33m(\u001b[0m\u001b[0mtrain_arr\u001b[0m\u001b[1;33m[\u001b[0m\u001b[0mi\u001b[0m\u001b[1;33m]\u001b[0m\u001b[1;33m)\u001b[0m\u001b[1;33m\u001b[0m\u001b[1;33m\u001b[0m\u001b[0m\n\u001b[0;32m     27\u001b[0m \u001b[1;33m\u001b[0m\u001b[0m\n",
      "\u001b[1;31mTypeError\u001b[0m: insert() missing 1 required positional argument: 'loc'"
     ]
    }
   ],
   "source": [
    "def KNN(train_arr, test_arr, kfold, classifierName):\n",
    "    \n",
    "    for i in range(0,kfold):\n",
    "        for k, test in test_arr[i].iterrows():\n",
    "            #print(test)\n",
    "            trainLen = len(train_arr[i])\n",
    "            \n",
    "            classifier_arr = train_arr[i][classifierName]\n",
    "            #train_arr[i].drop(['whether he/she donated blood in March 2007'], axis=1)\n",
    "           \n",
    "            tempTest = test.drop(classifierName)\n",
    "            \n",
    "            distanceList = list()\n",
    "            \n",
    "            #print(classifier_arr)\n",
    "            #train_arr[i] = train_arr[i].reset_index(drop=True)\n",
    "            #print(train_arr[i])\n",
    "            #print(train_arr[i][classifierName][0])\n",
    "            \n",
    "            for index,train in train_arr[i].iterrows():\n",
    "                #print(type(classifier_arr[index]))\n",
    "                tempTrain = train.drop([classifierName])\n",
    "                \n",
    "                distanceList.append(np.sum((tempTest  - tempTrain)**2))\n",
    "            train_arr[i].insert(value=pd.Series(distanceList), column='Distance') #problem\n",
    "    print(train_arr[i])\n",
    "\n",
    "kfold = 10\n",
    "\n",
    "classifierName = 'whether he/she donated blood in March 2007'\n",
    "train_arr, test_arr = getTenFoldData('data.csv', kfold)\n",
    "\n",
    "KNN(train_arr, test_arr, kfold, classifierName)\n",
    "#print(train_arr, test_arr)\n"
   ]
  },
  {
   "cell_type": "code",
   "execution_count": null,
   "metadata": {},
   "outputs": [],
   "source": []
  },
  {
   "cell_type": "code",
   "execution_count": null,
   "metadata": {},
   "outputs": [],
   "source": []
  }
 ],
 "metadata": {
  "kernelspec": {
   "display_name": "Python 3",
   "language": "python",
   "name": "python3"
  },
  "language_info": {
   "codemirror_mode": {
    "name": "ipython",
    "version": 3
   },
   "file_extension": ".py",
   "mimetype": "text/x-python",
   "name": "python",
   "nbconvert_exporter": "python",
   "pygments_lexer": "ipython3",
   "version": "3.7.1"
  }
 },
 "nbformat": 4,
 "nbformat_minor": 2
}
